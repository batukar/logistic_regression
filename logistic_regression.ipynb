{
 "cells": [
  {
   "cell_type": "markdown",
   "metadata": {},
   "source": [
    "Logistic Regression"
   ]
  },
  {
   "cell_type": "code",
   "execution_count": 1132,
   "metadata": {},
   "outputs": [],
   "source": [
    "import pandas as pd \n",
    "import numpy as np \n",
    "import seaborn as sn\n",
    "import matplotlib.pyplot as plt \n",
    "from sklearn.model_selection import train_test_split\n",
    "from sklearn.preprocessing import StandardScaler\n",
    "from sklearn.linear_model import LogisticRegression \n",
    "from sklearn.metrics import confusion_matrix \n",
    "from sklearn.metrics import accuracy_score\n",
    "from matplotlib.colors import ListedColormap "
   ]
  },
  {
   "cell_type": "code",
   "execution_count": 1133,
   "metadata": {},
   "outputs": [],
   "source": [
    "def get_dataset(title):\n",
    "    return pd.read_csv(title+'.csv')"
   ]
  },
  {
   "cell_type": "code",
   "execution_count": 1134,
   "metadata": {},
   "outputs": [],
   "source": [
    "def set_input(range_x_1, range_x_2):\n",
    "    return dataset.iloc[:, [range_x_1, range_x_2]].values"
   ]
  },
  {
   "cell_type": "code",
   "execution_count": 1135,
   "metadata": {},
   "outputs": [],
   "source": [
    "def set_output(range_y):\n",
    "    return dataset.iloc[:, range_y].values"
   ]
  },
  {
   "cell_type": "code",
   "execution_count": 1136,
   "metadata": {},
   "outputs": [],
   "source": [
    "def classifier(x,y):\n",
    "    return LogisticRegression(random_state = 0, solver='lbfgs').fit(x, y)"
   ]
  },
  {
   "cell_type": "code",
   "execution_count": 1137,
   "metadata": {},
   "outputs": [],
   "source": [
    "def classifier_pred(classifier_modal,x):\n",
    "     return classifier_modal.predict(x)   "
   ]
  },
  {
   "cell_type": "code",
   "execution_count": 1155,
   "metadata": {},
   "outputs": [],
   "source": [
    "def conf_mat(y_test, y_pred):\n",
    "    cm = confusion_matrix(y_test, y_pred)\n",
    "    print (\"Accuracy : \", accuracy_score(y_test, y_pred), '\\n----------------') \n",
    "    data = {'y_Actual':    y_test,\n",
    "            'y_Predicted': y_pred}\n",
    "    df = pd.DataFrame(data, columns=['y_Actual','y_Predicted'])\n",
    "    cm = pd.crosstab(df['y_Actual'], df['y_Predicted'], rownames=['Gercek'], colnames=['Tahmin'])\n",
    "    #, margins = True\n",
    "    sn.heatmap(cm, annot=True)\n",
    "    plt.show()"
   ]
  },
  {
   "cell_type": "code",
   "execution_count": 1165,
   "metadata": {},
   "outputs": [],
   "source": [
    "def plot_graph():\n",
    "    X_set, y_set = x_test, y_test\n",
    "\n",
    "    X1, X2 = np.meshgrid(np.arange(start = X_set[:, 0].min() - 1, \n",
    "                                    stop = X_set[:, 0].max() + 1, step = 0.01), \n",
    "                         np.arange(start = X_set[:, 1].min() - 1, \n",
    "                                    stop = X_set[:, 1].max() + 1, step = 0.01)) \n",
    "\n",
    "\n",
    "    plt.contourf(X1, X2, classifier_pred(classifier_modal, \n",
    "        np.array([X1.ravel(), X2.ravel()]).T).reshape( \n",
    "        X1.shape), alpha = 0.75, cmap = 'bone') \n",
    "\n",
    "    plt.xlim(X1.min(), X1.max()) \n",
    "    plt.ylim(X2.min(), X2.max()) \n",
    "\n",
    "    for i, j in enumerate(np.unique(y_set)): \n",
    "        plt.scatter(X_set[y_set == j, 0], X_set[y_set == j, 1], \n",
    "        c = ListedColormap(('yellow', 'black'))(i), label = j) \n",
    "\n",
    "    plt.title('Logistic Regression') \n",
    "    plt.xlabel('X') \n",
    "    plt.ylabel('Y') \n",
    "    plt.legend() \n",
    "    plt.show()"
   ]
  },
  {
   "cell_type": "code",
   "execution_count": 1157,
   "metadata": {},
   "outputs": [],
   "source": [
    "#Set Dataset\n",
    "dataset = get_dataset(title = 'User_Data')"
   ]
  },
  {
   "cell_type": "code",
   "execution_count": 1158,
   "metadata": {},
   "outputs": [],
   "source": [
    "#Set x & y \n",
    "x = set_input(range_x_1 = 2, range_x_2 = 3)\n",
    "y = set_output(range_y = 4) "
   ]
  },
  {
   "cell_type": "code",
   "execution_count": 1159,
   "metadata": {},
   "outputs": [],
   "source": [
    "#Set all params\n",
    "x_train, x_test, y_train, y_test = train_test_split(x, y, test_size = 0.25, random_state = 0) "
   ]
  },
  {
   "cell_type": "code",
   "execution_count": 1160,
   "metadata": {},
   "outputs": [],
   "source": [
    "# Ölçeklendirme\n",
    "sc_x = StandardScaler()\n",
    "\n",
    "x_train = sc_x.fit_transform(x_train.astype(np.float))\n",
    "x_test = sc_x.transform(x_test.astype(np.float))\n"
   ]
  },
  {
   "cell_type": "code",
   "execution_count": 1161,
   "metadata": {},
   "outputs": [],
   "source": [
    "#Set the classifier modal\n",
    "classifier_modal = classifier(x_train, y_train)"
   ]
  },
  {
   "cell_type": "code",
   "execution_count": 1162,
   "metadata": {},
   "outputs": [],
   "source": [
    "#Set the y predict\n",
    "y_pred = classifier_pred(classifier_modal, x_test)"
   ]
  },
  {
   "cell_type": "code",
   "execution_count": 1163,
   "metadata": {},
   "outputs": [
    {
     "name": "stdout",
     "output_type": "stream",
     "text": [
      "Accuracy :  0.89 \n",
      "----------------\n"
     ]
    },
    {
     "data": {
      "image/png": "[encoded data removed]",
      "text/plain": [
       "<Figure size 432x288 with 2 Axes>"
      ]
     },
     "metadata": {
      "needs_background": "light"
     },
     "output_type": "display_data"
    }
   ],
   "source": [
    "#Set Confussion Matrix\n",
    "conf_mat(y_test, y_pred)"
   ]
  },
  {
   "cell_type": "code",
   "execution_count": 1164,
   "metadata": {},
   "outputs": [
    {
     "name": "stderr",
     "output_type": "stream",
     "text": [
      "'c' argument looks like a single numeric RGB or RGBA sequence, which should be avoided as value-mapping will have precedence in case its length matches with 'x' & 'y'.  Please use a 2-D array with a single row if you really want to specify the same RGB or RGBA value for all points.\n",
      "'c' argument looks like a single numeric RGB or RGBA sequence, which should be avoided as value-mapping will have precedence in case its length matches with 'x' & 'y'.  Please use a 2-D array with a single row if you really want to specify the same RGB or RGBA value for all points.\n"
     ]
    },
    {
     "data": {
      "image/png": "[encoded data removed]",
      "text/plain": [
       "<Figure size 432x288 with 1 Axes>"
      ]
     },
     "metadata": {
      "needs_background": "light"
     },
     "output_type": "display_data"
    }
   ],
   "source": [
    "plot_graph()"
   ]
  },
  {
   "cell_type": "code",
   "execution_count": null,
   "metadata": {},
   "outputs": [],
   "source": []
  },
  {
   "cell_type": "code",
   "execution_count": null,
   "metadata": {},
   "outputs": [],
   "source": []
  }
 ],
 "metadata": {
  "kernelspec": {
   "display_name": "Python 3",
   "language": "python",
   "name": "python3"
  },
  "language_info": {
   "codemirror_mode": {
    "name": "ipython",
    "version": 3
   },
   "file_extension": ".py",
   "mimetype": "text/x-python",
   "name": "python",
   "nbconvert_exporter": "python",
   "pygments_lexer": "ipython3",
   "version": "3.7.7"
  }
 },
 "nbformat": 4,
 "nbformat_minor": 4
}
